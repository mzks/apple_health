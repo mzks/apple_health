{
 "cells": [
  {
   "cell_type": "markdown",
   "metadata": {},
   "source": [
    "# apple_health simple usage\n",
    "Author: Keita Mizukoshi"
   ]
  },
  {
   "cell_type": "code",
   "execution_count": 1,
   "metadata": {},
   "outputs": [],
   "source": [
    "import pandas as pd\n",
    "import datetime as dt\n",
    "from apple_health import manager\n",
    "\n",
    "import matplotlib.pyplot as plt"
   ]
  },
  {
   "cell_type": "code",
   "execution_count": 2,
   "metadata": {},
   "outputs": [],
   "source": [
    "man = manager()"
   ]
  },
  {
   "cell_type": "code",
   "execution_count": 3,
   "metadata": {},
   "outputs": [
    {
     "name": "stdout",
     "output_type": "stream",
     "text": [
      "Usage: \n",
      "man.path = '/path/to/your/zipfile/'\n",
      "man.zip_name = 'export.zip', for example\n",
      "\n",
      "If you want dates as datetime types\n",
      "man.as_datetime = True\n",
      "Then,\n",
      "df = man.get_df()\n"
     ]
    }
   ],
   "source": [
    "man.help()"
   ]
  },
  {
   "cell_type": "code",
   "execution_count": 4,
   "metadata": {},
   "outputs": [],
   "source": [
    "# Configures\n",
    "man.path = '/Users/mzks/Downloads/'\n",
    "man.zip_name = 'export.zip'\n",
    "\n",
    "man.as_datetime = True"
   ]
  },
  {
   "cell_type": "code",
   "execution_count": 5,
   "metadata": {},
   "outputs": [
    {
     "name": "stdout",
     "output_type": "stream",
     "text": [
      "CPU times: user 50.4 s, sys: 1.62 s, total: 52 s\n",
      "Wall time: 52.7 s\n"
     ]
    }
   ],
   "source": [
    "%%time\n",
    "df = man.get_df()"
   ]
  },
  {
   "cell_type": "code",
   "execution_count": 6,
   "metadata": {},
   "outputs": [
    {
     "data": {
      "text/html": [
       "<div>\n",
       "<style scoped>\n",
       "    .dataframe tbody tr th:only-of-type {\n",
       "        vertical-align: middle;\n",
       "    }\n",
       "\n",
       "    .dataframe tbody tr th {\n",
       "        vertical-align: top;\n",
       "    }\n",
       "\n",
       "    .dataframe thead th {\n",
       "        text-align: right;\n",
       "    }\n",
       "</style>\n",
       "<table border=\"1\" class=\"dataframe\">\n",
       "  <thead>\n",
       "    <tr style=\"text-align: right;\">\n",
       "      <th></th>\n",
       "      <th>date</th>\n",
       "      <th>start_date</th>\n",
       "      <th>value</th>\n",
       "      <th>type</th>\n",
       "    </tr>\n",
       "  </thead>\n",
       "  <tbody>\n",
       "    <tr>\n",
       "      <th>0</th>\n",
       "      <td>2017-10-27 11:43:00+09:00</td>\n",
       "      <td>2017-10-27 11:43:00+09:00</td>\n",
       "      <td>30.9513</td>\n",
       "      <td>bmi</td>\n",
       "    </tr>\n",
       "    <tr>\n",
       "      <th>1</th>\n",
       "      <td>2017-10-27 11:44:18+09:00</td>\n",
       "      <td>2017-10-27 11:44:18+09:00</td>\n",
       "      <td>30.8112</td>\n",
       "      <td>bmi</td>\n",
       "    </tr>\n",
       "    <tr>\n",
       "      <th>2</th>\n",
       "      <td>2017-10-27 11:44:38+09:00</td>\n",
       "      <td>2017-10-27 11:44:38+09:00</td>\n",
       "      <td>30.8112</td>\n",
       "      <td>bmi</td>\n",
       "    </tr>\n",
       "    <tr>\n",
       "      <th>3</th>\n",
       "      <td>2017-10-27 11:46:42+09:00</td>\n",
       "      <td>2017-10-27 11:46:42+09:00</td>\n",
       "      <td>30.8813</td>\n",
       "      <td>bmi</td>\n",
       "    </tr>\n",
       "    <tr>\n",
       "      <th>4</th>\n",
       "      <td>2017-10-27 12:12:09+09:00</td>\n",
       "      <td>2017-10-27 12:12:09+09:00</td>\n",
       "      <td>31.1264</td>\n",
       "      <td>bmi</td>\n",
       "    </tr>\n",
       "  </tbody>\n",
       "</table>\n",
       "</div>"
      ],
      "text/plain": [
       "                       date                start_date    value type\n",
       "0 2017-10-27 11:43:00+09:00 2017-10-27 11:43:00+09:00  30.9513  bmi\n",
       "1 2017-10-27 11:44:18+09:00 2017-10-27 11:44:18+09:00  30.8112  bmi\n",
       "2 2017-10-27 11:44:38+09:00 2017-10-27 11:44:38+09:00  30.8112  bmi\n",
       "3 2017-10-27 11:46:42+09:00 2017-10-27 11:46:42+09:00  30.8813  bmi\n",
       "4 2017-10-27 12:12:09+09:00 2017-10-27 12:12:09+09:00  31.1264  bmi"
      ]
     },
     "execution_count": 6,
     "metadata": {},
     "output_type": "execute_result"
    }
   ],
   "source": [
    "df.head()"
   ]
  },
  {
   "cell_type": "code",
   "execution_count": 7,
   "metadata": {},
   "outputs": [
    {
     "data": {
      "text/plain": [
       "{'active_energy',\n",
       " 'basal_energy',\n",
       " 'besa_body_temp',\n",
       " 'bmi',\n",
       " 'body_fat',\n",
       " 'body_mass',\n",
       " 'body_temp',\n",
       " 'calcium',\n",
       " 'carbohydrates',\n",
       " 'dietary_energy',\n",
       " 'dist_walk_run',\n",
       " 'env_audio_exposure',\n",
       " 'exercise_time',\n",
       " 'fat_saturated',\n",
       " 'fat_total',\n",
       " 'fiber',\n",
       " 'flights_climbed',\n",
       " 'heart_rate',\n",
       " 'heart_rate_sdnn',\n",
       " 'height',\n",
       " 'iron',\n",
       " 'lean_body_mass',\n",
       " 'protein',\n",
       " 'reboflavin',\n",
       " 'resting_heart_rate',\n",
       " 'sodium',\n",
       " 'stand_time',\n",
       " 'step_count',\n",
       " 'suger',\n",
       " 'thiamin',\n",
       " 'vitamin_A',\n",
       " 'vitamin_C',\n",
       " 'vitamin_E',\n",
       " 'vo2_max',\n",
       " 'walking_heart_rate_average'}"
      ]
     },
     "execution_count": 7,
     "metadata": {},
     "output_type": "execute_result"
    }
   ],
   "source": [
    "set(df['type'])"
   ]
  },
  {
   "cell_type": "code",
   "execution_count": 8,
   "metadata": {},
   "outputs": [
    {
     "data": {
      "text/plain": [
       "Text(0, 0.5, 'Body mass (kg)')"
      ]
     },
     "execution_count": 8,
     "metadata": {},
     "output_type": "execute_result"
    },
    {
     "data": {
      "image/png": "[encoded data removed]",
      "text/plain": [
       "<Figure size 432x288 with 1 Axes>"
      ]
     },
     "metadata": {
      "image/png": {
       "height": 297,
       "width": 382
      },
      "needs_background": "light"
     },
     "output_type": "display_data"
    }
   ],
   "source": [
    "init_date = dt.datetime(2020,9,1,tzinfo=dt.timezone(dt.timedelta(hours=9)))\n",
    "_df = df[df['type']=='body_mass']\n",
    "_df = _df[_df['date'] > init_date]\n",
    "plt.plot(_df['date'], _df['value'], 'o')\n",
    "plt.xticks(rotation='vertical')\n",
    "plt.ylabel('Body mass (kg)')"
   ]
  },
  {
   "cell_type": "code",
   "execution_count": null,
   "metadata": {},
   "outputs": [],
   "source": []
  }
 ],
 "metadata": {
  "kernelspec": {
   "display_name": "Python 3",
   "language": "python",
   "name": "python3"
  },
  "language_info": {
   "codemirror_mode": {
    "name": "ipython",
    "version": 3
   },
   "file_extension": ".py",
   "mimetype": "text/x-python",
   "name": "python",
   "nbconvert_exporter": "python",
   "pygments_lexer": "ipython3",
   "version": "3.7.7"
  }
 },
 "nbformat": 4,
 "nbformat_minor": 4
}
